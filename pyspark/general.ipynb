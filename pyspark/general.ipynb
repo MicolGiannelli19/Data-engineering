{
 "cells": [
  {
   "cell_type": "markdown",
   "metadata": {},
   "source": [
    "Here is a few defenitions\n",
    "\n",
    "PySpark is the Python API for Spark.\n",
    "\n",
    "Public classes:\n",
    "\n",
    "        1. **SparkContext:**\n",
    "\n",
    "            Main entry point for Spark functionality.\n",
    "\n",
    "        **RDD:**\n",
    "\n",
    "            A Resilient Distributed Dataset (RDD), the basic abstraction in Spark.\n",
    "\n",
    "        **Broadcast:**\n",
    "\n",
    "            A broadcast variable that gets reused across tasks.\n",
    "\n",
    "        **Accumulator:**\n",
    "\n",
    "            An “add-only” shared variable that tasks can only add values to.\n",
    "\n",
    "        **SparkConf:**\n",
    "\n",
    "            For configuring Spark.\n",
    "\n",
    "        **SparkFiles:**\n",
    "\n",
    "            Access files shipped with jobs.\n",
    "\n",
    "        **\n",
    "\n",
    "            Finer-grained cache persistence levels.\n",
    "\n"
   ]
  },
  {
   "cell_type": "markdown",
   "metadata": {},
   "source": [
    "The `.createDataFrame()` method takes a pandas DataFrame and returns a Spark DataFrame.\n",
    "\n",
    "The output of this method is stored locally, not in the `SparkSession` catalog. This means that you can use all the Spark DataFrame methods on it, but you can't access the data in other contexts."
   ]
  },
  {
   "cell_type": "code",
   "execution_count": null,
   "metadata": {
    "vscode": {
     "languageId": "plaintext"
    }
   },
   "outputs": [],
   "source": [
    "What is the diffrence between a spark session and a spark context"
   ]
  }
 ],
 "metadata": {
  "language_info": {
   "name": "python"
  }
 },
 "nbformat": 4,
 "nbformat_minor": 2
}
