{
 "cells": [
  {
   "cell_type": "markdown",
   "metadata": {},
   "source": [
    "Here is a few defenitions\n",
    "\n",
    "PySpark is the Python API for Spark.\n",
    "\n",
    "here are some Basic defintions: \n",
    "\n",
    "1. **SparkContext:**\n",
    "\n",
    "    Main entry point for Spark functionality.\n",
    "\n",
    "2. **RDD:**\n",
    "\n",
    "    A Resilient Distributed Dataset (RDD), the basic abstraction in Spark.\n",
    "\n",
    "3. **Broadcast:**\n",
    "\n",
    "    A broadcast variable that gets reused across tasks.\n",
    "\n",
    "4. **Accumulator:**\n",
    "\n",
    "    An “add-only” shared variable that tasks can only add values to.\n",
    "\n",
    "5. **SparkConf:**\n",
    "\n",
    "    For configuring Spark.\n",
    "\n",
    "6. **SparkFiles:**\n",
    "\n",
    "    Access files shipped with jobs.\n",
    "\n"
   ]
  },
  {
   "cell_type": "markdown",
   "metadata": {},
   "source": [
    "The `.createDataFrame()` method takes a pandas DataFrame and returns a Spark DataFrame.\n",
    "\n",
    "The output of this method is stored locally, not in the `SparkSession` catalog. This means that you can use all the Spark DataFrame methods on it, but you can't access the data in other contexts."
   ]
  },
  {
   "cell_type": "code",
   "execution_count": null,
   "metadata": {
    "vscode": {
     "languageId": "plaintext"
    }
   },
   "outputs": [],
   "source": [
    "What is the diffrence between a spark session and a spark context"
   ]
  }
 ],
 "metadata": {
  "language_info": {
   "name": "python"
  }
 },
 "nbformat": 4,
 "nbformat_minor": 2
}
